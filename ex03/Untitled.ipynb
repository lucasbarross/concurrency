{
 "cells": [
  {
   "cell_type": "code",
   "execution_count": 1,
   "metadata": {},
   "outputs": [],
   "source": [
    "from collections import defaultdict\n",
    "from statistics import mean, stdev\n",
    "import pandas as pd"
   ]
  },
  {
   "cell_type": "code",
   "execution_count": 2,
   "metadata": {},
   "outputs": [],
   "source": [
    "def parse_time(x):\n",
    "    unit = x[-2:]\n",
    "    time = x[:-2]\n",
    "    mult = 1000 if unit == 'ms' else 1\n",
    "    return float(time) * mult"
   ]
  },
  {
   "cell_type": "code",
   "execution_count": 3,
   "metadata": {},
   "outputs": [],
   "source": [
    "def process(clients):\n",
    "    raw = open(f'results/{clients}.txt')\n",
    "    data = raw.read()\n",
    "    data_per_client = defaultdict(list)\n",
    "    for x in [x.split(':') for x in data.split()]:\n",
    "        data_per_client[int(x[0])].append(x[1])\n",
    "    for client in data_per_client:\n",
    "        data_per_client[client] = [parse_time(x) for x in data_per_client[client]]\n",
    "    data = data_per_client[0]\n",
    "    return [protocol, clients, mean(data), stdev(data)]"
   ]
  },
  {
   "cell_type": "code",
   "execution_count": 4,
   "metadata": {},
   "outputs": [],
   "source": [
    "rows = []\n",
    "    for clients in [1, 2, 5, 10]:\n",
    "        rows.append(process(clients))"
   ]
  },
  {
   "cell_type": "code",
   "execution_count": 5,
   "metadata": {},
   "outputs": [
    {
     "data": {
      "text/plain": [
       "[['tcp', 1, 88.6760511, 23.42641430901508],\n",
       " ['tcp', 2, 60.6300485, 30.83701040506067],\n",
       " ['tcp', 5, 175.086413, 62.073584780352256],\n",
       " ['tcp', 10, 225.5691172, 123.02482604031712],\n",
       " ['udp', 1, 44.7675891, 36.02826651701249],\n",
       " ['udp', 2, 109.578887, 42.56918473324238],\n",
       " ['udp', 5, 181.4375706, 65.38887000447295],\n",
       " ['udp', 10, 343.6404444, 143.8251674071387]]"
      ]
     },
     "execution_count": 5,
     "metadata": {},
     "output_type": "execute_result"
    }
   ],
   "source": [
    "rows"
   ]
  },
  {
   "cell_type": "code",
   "execution_count": 6,
   "metadata": {},
   "outputs": [],
   "source": [
    "df = pd.DataFrame(rows, columns=['protocol', 'clients', 'mean', 'stdev'])"
   ]
  },
  {
   "cell_type": "code",
   "execution_count": 8,
   "metadata": {},
   "outputs": [],
   "source": [
    "df.to_csv('data.csv', index=False, header=False, decimal=\",\")"
   ]
  },
  {
   "cell_type": "code",
   "execution_count": null,
   "metadata": {},
   "outputs": [],
   "source": []
  }
 ],
 "metadata": {
  "kernelspec": {
   "display_name": "Python 3",
   "language": "python",
   "name": "python3"
  },
  "language_info": {
   "codemirror_mode": {
    "name": "ipython",
    "version": 3
   },
   "file_extension": ".py",
   "mimetype": "text/x-python",
   "name": "python",
   "nbconvert_exporter": "python",
   "pygments_lexer": "ipython3",
   "version": "3.7.7"
  }
 },
 "nbformat": 4,
 "nbformat_minor": 4
}